{
 "cells": [
  {
   "cell_type": "markdown",
   "id": "dc8f6fae-4bba-4255-805d-ee72b5fa84af",
   "metadata": {},
   "source": [
    "## Loading Libraries"
   ]
  },
  {
   "cell_type": "code",
   "execution_count": null,
   "id": "24d73152-a11f-485f-a98e-36d279ee41f7",
   "metadata": {},
   "outputs": [],
   "source": [
    "import pandas as pd\n",
    "import numpy as np\n",
    "from sklearn.neighbors import NearestNeighbors\n",
    "from sklearn.decomposition import PCA, SparsePCA\n",
    "from sklearn.metrics.pairwise import cosine_similarity\n",
    "from scipy.stats import zscore\n",
    "import math"
   ]
  },
  {
   "cell_type": "markdown",
   "id": "11b3408f-c32a-473d-b1b0-6abdb849ddac",
   "metadata": {},
   "source": [
    "## Load Data"
   ]
  },
  {
   "cell_type": "code",
   "execution_count": null,
   "id": "918d615e-7ab3-4061-9ca3-00b1576d847c",
   "metadata": {},
   "outputs": [],
   "source": [
    "df_22_org = pd.read_excel(\"HW4_Data_2022.xlsx\", skiprows=range(1,4), header=0, sheet_name=\"Form Responses 1\")"
   ]
  },
  {
   "cell_type": "code",
   "execution_count": null,
   "id": "51b66ae9-29d7-4368-8167-4b1f3f499c43",
   "metadata": {},
   "outputs": [],
   "source": [
    "df_21_org  = pd.read_excel(\"HW4_Data_2022.xlsx\", skiprows=range(1,4), header=0, sheet_name=\"DBMI Data\")"
   ]
  },
  {
   "cell_type": "code",
   "execution_count": null,
   "id": "4af88296-3f54-4fb4-bcb9-0feb719970e9",
   "metadata": {},
   "outputs": [],
   "source": [
    "# Cleaning up column names\n",
    "col_list_22 = df_22_org.columns\n",
    "col_list_22 = [item.strip().strip(\"[]\") for item in col_list_22]\n",
    "df_22_org.columns = col_list_22\n",
    "df_21_org.columns = [item.strip() for item in df_21_org.columns]"
   ]
  },
  {
   "cell_type": "code",
   "execution_count": null,
   "id": "cbbbada2-49a4-496c-86f0-ac1a74aeea2b",
   "metadata": {},
   "outputs": [],
   "source": [
    "df_22_org.head()"
   ]
  },
  {
   "cell_type": "code",
   "execution_count": null,
   "id": "1e2749a3-c79f-42d4-a997-459395df45e9",
   "metadata": {},
   "outputs": [],
   "source": [
    "df_21_org.head()"
   ]
  },
  {
   "cell_type": "code",
   "execution_count": null,
   "id": "c93d525e-016f-4309-9539-3e8d27f8277a",
   "metadata": {},
   "outputs": [],
   "source": [
    "index_to_name = {key:value for key, value in enumerate(list(df_22_org[\"Please write your first name below\"] +\" \"+ df_22_org[\"Please write your last name below\"]))}\n",
    "name_to_index = {value:key for key, value in enumerate(index_to_name.values())}"
   ]
  },
  {
   "cell_type": "code",
   "execution_count": null,
   "id": "ee1b0e5e-7746-4b9d-affa-14a9dd57b4e4",
   "metadata": {},
   "outputs": [],
   "source": [
    "len(name_to_index.keys())"
   ]
  },
  {
   "cell_type": "code",
   "execution_count": null,
   "id": "d38a02d5-a904-49d7-9e53-f880f1848240",
   "metadata": {},
   "outputs": [],
   "source": [
    "#Handling Missing Values and removing unnecessary columns\n",
    "df_22_org.replace('Did Not Watch', '0', regex=True, inplace=True)\n",
    "df_22_org.drop(['Serial Number', \n",
    "                 'Please write your first name below', \n",
    "                 'Please write your last name below',\n",
    "                 'Please write your section number below (1,2)',\n",
    "                 'Please write your group number or letter below'],\n",
    "                 axis=1, \n",
    "                 inplace=True)\n",
    "df_22_org = df_22_org.astype(float)\n",
    "df_22_org.fillna(0, inplace=True)\n",
    "df_22_org.info()\n",
    "\n",
    "\n",
    "df_21_org.replace('Did Not Watch', '0', regex=True, inplace=True)\n",
    "df_21_org.drop(['User'], axis=1, inplace=True)\n",
    "df_21_org.iloc[:, 1:]  = df_21_org.iloc[:, 1:].astype(float)\n",
    "df_21_org.fillna(0, inplace=True)\n",
    "df_21_org.info()"
   ]
  },
  {
   "cell_type": "code",
   "execution_count": null,
   "id": "80c2d5eb-dcc0-4699-a2f0-c43f13b7c1d5",
   "metadata": {},
   "outputs": [],
   "source": [
    "df_22_org.head()"
   ]
  },
  {
   "cell_type": "markdown",
   "id": "36da2ac8-57bc-42a6-bb49-c7a5ee25b2d5",
   "metadata": {},
   "source": [
    "## Item Based Filtering"
   ]
  },
  {
   "cell_type": "code",
   "execution_count": null,
   "id": "9714844e-8608-45d7-b7d2-10ccb7dde6fa",
   "metadata": {},
   "outputs": [],
   "source": [
    "u_similarity_matrix_22_org=cosine_similarity(df_22_org)"
   ]
  },
  {
   "cell_type": "code",
   "execution_count": null,
   "id": "22e910da-6820-43dc-95e3-e190d0125e7e",
   "metadata": {},
   "outputs": [],
   "source": [
    "u_similarity_matrix_22_org.shape"
   ]
  },
  {
   "cell_type": "markdown",
   "id": "22cc03e0-aff2-443e-b749-c13d296b3bb7",
   "metadata": {},
   "source": [
    "## Testing Out Nearest Neighbor Logic Using Weighted Cosine-Similarity on Raw ratings"
   ]
  },
  {
   "cell_type": "code",
   "execution_count": null,
   "id": "9bab723c-d6a9-43e2-abb4-313a281d016a",
   "metadata": {},
   "outputs": [],
   "source": [
    "username = \"Hanqiu Yu\"\n",
    "movie = \"La La Land\"\n",
    "k=10\n",
    "user_index = name_to_index[username]\n",
    "indices = np.argpartition(u_similarity_matrix_22_org[user_index], -(k+1))[-(k+1):]\n",
    "indices = [i for i in indices if i != user_index]"
   ]
  },
  {
   "cell_type": "code",
   "execution_count": null,
   "id": "61de43dd-c812-41fc-8ae1-f059076bfe31",
   "metadata": {},
   "outputs": [],
   "source": [
    "u_similarity_matrix_22_org[user_index][indices]\n"
   ]
  },
  {
   "cell_type": "code",
   "execution_count": null,
   "id": "5c98ab2a-ba9d-4a31-963d-1e3508a14dae",
   "metadata": {},
   "outputs": [],
   "source": [
    "np.dot(df_22_org.iloc[indices].T.loc[\"La La Land\"].values.reshape(1, -1), u_similarity_matrix_22_org[user_index][indices])/sum(u_similarity_matrix_22_org[user_index][indices])"
   ]
  },
  {
   "cell_type": "markdown",
   "id": "04502074-d35f-4483-9691-59c1a002d4b1",
   "metadata": {},
   "source": [
    "## Original Data User-User using Nearest Neighbors"
   ]
  },
  {
   "cell_type": "code",
   "execution_count": null,
   "id": "0a6f604b",
   "metadata": {},
   "outputs": [],
   "source": [
    "def get_similar_users_index(username, k=10):\n",
    "    user_index = name_to_index[username]\n",
    "    indices = np.argpartition(similarity_matrix_22[user_index], -(k+1))[-(k+1):]\n",
    "    \n",
    "    return df_22.iloc[indices]\n"
   ]
  },
  {
   "cell_type": "code",
   "execution_count": null,
   "id": "eff84600-7cb8-4db9-bb23-10f7a8e4c88a",
   "metadata": {},
   "outputs": [],
   "source": [
    "index = name_to_index[\"abc\"]\n",
    "df_22_org.iloc[index][\"Dunkirk\"]"
   ]
  },
  {
   "cell_type": "markdown",
   "id": "3a0b13be-9332-49a2-9b29-9f7625ac8cf2",
   "metadata": {},
   "source": [
    "# Question 2 Original Data User-User"
   ]
  },
  {
   "cell_type": "code",
   "execution_count": null,
   "id": "20a1faf3-acae-4820-866f-4e1f9cbdd739",
   "metadata": {},
   "outputs": [],
   "source": [
    "df_21_org.columns = [item.strip() for item in df_21_org.columns]"
   ]
  },
  {
   "cell_type": "code",
   "execution_count": null,
   "id": "73676e67-394b-423e-981c-f1bac3a6fcf6",
   "metadata": {},
   "outputs": [],
   "source": [
    "df_combined = pd.concat([df_22_org, df_21_org])"
   ]
  },
  {
   "cell_type": "code",
   "execution_count": null,
   "id": "45ebfa13-660a-46ab-b4f2-053210351e2f",
   "metadata": {},
   "outputs": [],
   "source": [
    "df_combined"
   ]
  },
  {
   "cell_type": "code",
   "execution_count": null,
   "id": "4dfb3daa-a243-41b8-9c1c-454ee4551fee",
   "metadata": {},
   "outputs": [],
   "source": [
    "np.where(df_combined['A Serious Man'] > 0)"
   ]
  },
  {
   "cell_type": "markdown",
   "id": "bd1e6cdb-de51-44be-a41e-651b2d00b65d",
   "metadata": {},
   "source": [
    "The logic here is as follows:\n",
    "\n",
    "Since our nearest neighbor algorithm fails for users without any ratings for the movies, we just consider those users who have rated the respective movie.\n",
    "We calculate their cosine similarity and compute the ratings based on their weighted cosine similarity with us."
   ]
  },
  {
   "cell_type": "code",
   "execution_count": null,
   "id": "3c5be5d0-d48d-412d-aaa8-a5761e04302a",
   "metadata": {},
   "outputs": [],
   "source": [
    "u_similarity_matrix_combined =cosine_similarity(df_combined)\n",
    "\n",
    "\n",
    "def predict_rating_rare_movies(username, movie, k=10):\n",
    "    user_index = name_to_index[username]\n",
    "    indices = np.where(df_combined[movie] > 0)\n",
    "    ratings_movie = df_combined.iloc[indices].T.loc[movie].values.reshape(1, -1)\n",
    "    print(ratings_movie)\n",
    "    cosine_similarity_top_k_users = u_similarity_matrix_combined[user_index][indices]\n",
    "    print(cosine_similarity_top_k_users)\n",
    "    res = np.dot(ratings_movie, cosine_similarity_top_k_users)/sum(cosine_similarity_top_k_users)\n",
    "    return res[0]\n",
    "\n",
    "team_names = [\"ABC\", \"DEF\", \"GHI\", \"JKL\"]\n",
    "movies = [\"Son of Saul\", \"Winter's Bone\", \"A Serious Man\"]\n",
    "for name in team_names:\n",
    "    for movie in movies:\n",
    "        print(f\"Prediction for {name} for the movie {movie} is: {predict_rating_rare_movies(name, movie)}\")\n",
    "        print(\"------------------------------------------------------------------------------\")"
   ]
  },
  {
   "cell_type": "markdown",
   "id": "002a93d7-4b3d-4787-9597-ef80216e8b11",
   "metadata": {},
   "source": [
    "## Question 3 User-User Just Average"
   ]
  },
  {
   "cell_type": "code",
   "execution_count": null,
   "id": "d9f6c5ab-cc78-409b-b4ac-a2580cfc4d14",
   "metadata": {},
   "outputs": [],
   "source": [
    "avg_rating_avatar = df_combined[\"Avatar\"].sum()/np.where(df_combined[\"Avatar\"] > 0)[0].shape[0]\n",
    "avg_rating_twows = df_combined[\"The Wolf of Wall Street\"].sum()/np.where(df_combined[\"The Wolf of Wall Street\"] > 0)[0].shape[0]\n",
    "avg_rating_inception = df_combined[\"Inception\"].sum()/np.where(df_combined[\"Inception\"] > 0)[0].shape[0]"
   ]
  },
  {
   "cell_type": "code",
   "execution_count": null,
   "id": "8e578170-7eca-4717-9781-796b96a63946",
   "metadata": {},
   "outputs": [],
   "source": [
    "print(f\"Avatar rating: {avg_rating_avatar}\")\n",
    "print(f\"The Wolf of Wall Street rating: {avg_rating_twows}\")\n",
    "print(f\"Inception rating: {avg_rating_inception}\")"
   ]
  },
  {
   "cell_type": "markdown",
   "id": "c9be116d-816d-4fff-b039-5191e10b6f9f",
   "metadata": {},
   "source": [
    "## Question 3 Original Data Item-Item KNN "
   ]
  },
  {
   "cell_type": "code",
   "execution_count": null,
   "id": "6a059294-be8c-4be7-abfa-8518d48dc4b2",
   "metadata": {},
   "outputs": [],
   "source": [
    "df_combined.T.index"
   ]
  },
  {
   "cell_type": "code",
   "execution_count": null,
   "id": "f04c9b8a-3838-4b18-b7c1-d36957a01959",
   "metadata": {},
   "outputs": [],
   "source": [
    "i_similarity_matrix = cosine_similarity(df_combined.T)\n",
    "movie_to_index = {item: i for i, item in enumerate(list(df_combined.T.index))}"
   ]
  },
  {
   "cell_type": "code",
   "execution_count": null,
   "id": "9c14f48c-13be-45b7-8239-af0a55cfe4d9",
   "metadata": {},
   "outputs": [],
   "source": [
    "movie = \"The Wolf of Wall Street\"\n",
    "k=5\n",
    "movie_index = movie_to_index[movie]\n",
    "indices = np.argpartition(i_similarity_matrix[movie_index], -(k+1))[-(k+1):]\n",
    "indices = [i for i in indices if i != movie_index]"
   ]
  },
  {
   "cell_type": "code",
   "execution_count": null,
   "id": "74f46a01-efbd-426e-9e38-29b16ee42e22",
   "metadata": {},
   "outputs": [],
   "source": [
    "df_combined"
   ]
  },
  {
   "cell_type": "code",
   "execution_count": null,
   "id": "ea5e0d6d-aafc-4c7a-aa22-a7a8f2783770",
   "metadata": {},
   "outputs": [],
   "source": [
    "def predict_rating_item(username, movie, k=5):\n",
    "    movie_index = movie_to_index[movie]\n",
    "    indices = np.argpartition(i_similarity_matrix[movie_index], -(k+1))[-(k+1):]\n",
    "    indices = [i for i in indices if i != movie_index]\n",
    "    ratings_movie = df_combined.T.iloc[indices].mean(axis=1).values\n",
    "    cosine_similarity_top_k_movies = i_similarity_matrix[movie_index][indices]\n",
    "    res = np.dot(ratings_movie, cosine_similarity_top_k_movies)/sum(cosine_similarity_top_k_movies)\n",
    "    return res\n",
    "\n",
    "team_names = [\"MNO\", \"PQR\", \"STU\"]\n",
    "movies = [\"Avatar\", \"Inception\", \"The Wolf of Wall Street\"]\n",
    "for name in team_names:\n",
    "    for movie in movies:\n",
    "        print(f\"Prediction for {name} for the movie {movie} is: {predict_rating_item(name, movie)}\")\n",
    "        print(\"------------------------------------------------------------------------------\")"
   ]
  },
  {
   "cell_type": "code",
   "execution_count": null,
   "id": "cf2e450b-9f28-4af3-a8cf-0e13b75ac869",
   "metadata": {},
   "outputs": [],
   "source": []
  },
  {
   "cell_type": "markdown",
   "id": "05d68b08-0343-48b2-ace8-28600c071f29",
   "metadata": {},
   "source": [
    "## Question 3 Original Data Item-Item KNN ZScored"
   ]
  },
  {
   "cell_type": "code",
   "execution_count": null,
   "id": "0d1be43c-a7e0-48ca-939d-a85661b3e437",
   "metadata": {},
   "outputs": [],
   "source": [
    "df_combined_z_scored = pd.read_csv(\"item_item_z_scored.csv\")"
   ]
  },
  {
   "cell_type": "code",
   "execution_count": null,
   "id": "307ab3db-dbac-4a89-89de-c3e6a08e5f07",
   "metadata": {},
   "outputs": [],
   "source": [
    "df_combined_z_scored.columns = col_list_22[5:]\n",
    "df_combined_z_scored = df_combined_z_scored.T"
   ]
  },
  {
   "cell_type": "code",
   "execution_count": null,
   "id": "b595319e-13d2-40b8-926b-91c44eabc90e",
   "metadata": {},
   "outputs": [],
   "source": [
    "movie = \"The Wolf of Wall Street\"\n",
    "k=5\n",
    "i_similarity_matrix_z_scored = cosine_similarity(df_combined_z_scored)\n",
    "movie_index = movie_to_index[movie]\n",
    "indices = np.argpartition(i_similarity_matrix_z_scored[movie_index], -(k+1))[-(k+1):]\n",
    "indices = [i for i in indices if i != movie_index]"
   ]
  },
  {
   "cell_type": "code",
   "execution_count": null,
   "id": "74132a0c-c5c7-426c-9967-74ce4d0d4af7",
   "metadata": {},
   "outputs": [],
   "source": [
    "df_combined.T.iloc[indices]"
   ]
  },
  {
   "cell_type": "code",
   "execution_count": null,
   "id": "56c773f0-5480-4419-8de9-bb86c87bcb70",
   "metadata": {},
   "outputs": [],
   "source": [
    "ratings_movie = df_combined_z_scored.T.iloc[indices].mean(axis=1).values\n",
    "print(ratings_movie)\n",
    "cosine_similarity_top_k_movies = i_similarity_matrix_z_scored[movie_index][indices]\n",
    "res = df_combined.T.iloc[movie_index].std() * np.dot(ratings_movie, cosine_similarity_top_k_movies)/sum(cosine_similarity_top_k_movies) + df_combined.T.iloc[movie_index].mean()"
   ]
  },
  {
   "cell_type": "code",
   "execution_count": null,
   "id": "df12865f-4bf9-4b26-8afe-9ce27f2adf6b",
   "metadata": {},
   "outputs": [],
   "source": [
    "np.dot(ratings_movie, cosine_similarity_top_k_movies)/sum(cosine_similarity_top_k_movies)"
   ]
  },
  {
   "cell_type": "code",
   "execution_count": null,
   "id": "03d3686c-d1dd-4918-b70b-18bfd6bf712e",
   "metadata": {},
   "outputs": [],
   "source": [
    "df_combined.T.iloc[34].mean()"
   ]
  },
  {
   "cell_type": "code",
   "execution_count": null,
   "id": "a994d2ab-21ac-44a1-bbab-a5a7b9bad383",
   "metadata": {},
   "outputs": [],
   "source": [
    "def predict_rating_item(movie, k=5):\n",
    "    movie_index = movie_to_index[movie]\n",
    "    indices = np.argpartition(i_similarity_matrix_z_scored[movie_index], -(k+1))[-(k+1):]\n",
    "    indices = [i for i in indices if i != movie_index]\n",
    "    ratings_movie = df_combined_z_scored.iloc[indices].mean(axis=1).values\n",
    "    cosine_similarity_top_k_movies = i_similarity_matrix_z_scored[movie_index][indices]\n",
    "    res = df_combined.T.iloc[movie_index].std() * np.dot(ratings_movie, cosine_similarity_top_k_movies)/sum(abs(cosine_similarity_top_k_movies)) + df_combined.T.iloc[movie_index].mean()\n",
    "    return res\n",
    "    \n",
    "team_names = [\"MNO\", \"PQR\", \"STU\"]\n",
    "movies = [\"Avatar\", \"Inception\", \"The Wolf of Wall Street\"]\n",
    "for name in team_names:\n",
    "    for movie in movies:\n",
    "        print(f\"Prediction for {name} for the movie {movie} is: {predict_rating_item(movie)}\")\n",
    "        print(\"------------------------------------------------------------------------------\")"
   ]
  },
  {
   "cell_type": "markdown",
   "id": "c8950045-98e1-41db-abcd-0cf9b27bed02",
   "metadata": {},
   "source": [
    "## Question 4 User-User KNN"
   ]
  },
  {
   "cell_type": "code",
   "execution_count": null,
   "id": "814137a5-83fc-4082-90b8-5591b7719cd3",
   "metadata": {},
   "outputs": [],
   "source": [
    "df_22_ref = pd.read_excel(\"HW4_Data_2022.xlsx\", skiprows=range(1,4), header=0, sheet_name=\"Form Responses 2\")"
   ]
  },
  {
   "cell_type": "code",
   "execution_count": null,
   "id": "e02d2990-69fa-4aff-b994-714f4eb7ddaa",
   "metadata": {},
   "outputs": [],
   "source": [
    "df_22_ref.shape"
   ]
  },
  {
   "cell_type": "code",
   "execution_count": null,
   "id": "4d560d8b-0886-4c73-9ab6-562dc591fb3a",
   "metadata": {},
   "outputs": [],
   "source": [
    "# Cleaning up column names\n",
    "col_list_22 = df_22_ref.columns\n",
    "col_list_22 = [item.strip().strip(\"[]\") for item in col_list_22]\n",
    "df_22_ref.columns = col_list_22"
   ]
  },
  {
   "cell_type": "code",
   "execution_count": null,
   "id": "6d14c9d2-0c60-4a1f-9c02-aae867ceeff2",
   "metadata": {},
   "outputs": [],
   "source": [
    "df_22_ref.tail(3)[\"Mad Max: Fury Road\"]"
   ]
  },
  {
   "cell_type": "code",
   "execution_count": null,
   "id": "696ea929-a254-4550-b370-6eba50e9d59e",
   "metadata": {},
   "outputs": [],
   "source": [
    "index_to_name = {key:value for key, value in enumerate(list(df_22_ref[\"Please write your first name below\"] +\" \"+ df_22_ref[\"Please write your last name below\"]))}\n",
    "name_to_index = {value:key for key, value in enumerate(index_to_name.values())}"
   ]
  },
  {
   "cell_type": "code",
   "execution_count": null,
   "id": "299524c1-2b4f-43f3-87ae-23a18f4e9e9d",
   "metadata": {},
   "outputs": [],
   "source": [
    "#Handling Missing Values and removing unnecessary columns\n",
    "df_22_ref.replace('Did Not Watch', '0', regex=True, inplace=True)\n",
    "df_22_ref.drop(['Serial Number', \n",
    "                 'Please write your first name below', \n",
    "                 'Please write your last name below',\n",
    "                 'Please write your section number below (1,2)',\n",
    "                 'Please write your group number or letter below'],\n",
    "                 axis=1, \n",
    "                 inplace=True)\n",
    "df_22_ref = df_22_ref.astype(float)\n",
    "df_22_ref.fillna(0, inplace=True)\n",
    "#df_22_ref.info()"
   ]
  },
  {
   "cell_type": "code",
   "execution_count": null,
   "id": "b628d74d-2aae-4c34-b40a-490432ca8566",
   "metadata": {},
   "outputs": [],
   "source": [
    "df_combined_ref = pd.concat([df_22_ref, df_21_org])"
   ]
  },
  {
   "cell_type": "code",
   "execution_count": null,
   "id": "d8aade43-a001-4df9-91ba-2b69b2674637",
   "metadata": {},
   "outputs": [],
   "source": [
    "df_combined_ref"
   ]
  },
  {
   "cell_type": "code",
   "execution_count": null,
   "id": "764214ea-afba-4bc7-950a-21066de33985",
   "metadata": {},
   "outputs": [],
   "source": [
    "u_similarity_matrix_ref = cosine_similarity(df_combined_ref)"
   ]
  },
  {
   "cell_type": "code",
   "execution_count": null,
   "id": "a5dfb2b4-f447-4aea-814a-bab8bf4d8c09",
   "metadata": {},
   "outputs": [],
   "source": [
    "u_similarity_matrix_ref.shape"
   ]
  },
  {
   "cell_type": "code",
   "execution_count": null,
   "id": "41d64a5c-33b5-4503-b89f-a441b2bd39ca",
   "metadata": {},
   "outputs": [],
   "source": [
    "df_combined_ref.iloc[indices].T.loc[movie].values.reshape(1, -1)"
   ]
  },
  {
   "cell_type": "code",
   "execution_count": null,
   "id": "fcea7047-6fb1-4b20-a4e0-d99c109b1bc7",
   "metadata": {},
   "outputs": [],
   "source": [
    "def predict_rating(username, movie, k=10):\n",
    "    user_index = name_to_index[username]\n",
    "    indices = np.argpartition(u_similarity_matrix_ref[user_index], -(k+1))[-(k+1):]\n",
    "    indices = [i for i in indices if i != user_index]\n",
    "    ratings_movie = df_combined_ref.iloc[indices].T.loc[movie].values.reshape(1, -1)\n",
    "    cosine_similarity_top_k_users = u_similarity_matrix_ref[user_index][indices]\n",
    "    res = np.dot(ratings_movie, cosine_similarity_top_k_users)/sum(abs(cosine_similarity_top_k_users))\n",
    "    return res[0]\n",
    "\n",
    "team_names = [\"MNO\", \"PQR\", \"STU\"]\n",
    "movies = [\"Avatar\", \"Inception\", \"The Wolf of Wall Street\"]\n",
    "for name in team_names:\n",
    "    for movie in movies:\n",
    "        print(f\"Prediction for {name} for the movie {movie} is: {predict_rating(name, movie)}\")\n",
    "        print(\"------------------------------------------------------------------------------\")"
   ]
  },
  {
   "cell_type": "markdown",
   "id": "1d0becd6-93be-437a-a2fa-d058b8db0c6a",
   "metadata": {},
   "source": [
    "## Question 4 KNN User-User ZScore"
   ]
  },
  {
   "cell_type": "code",
   "execution_count": null,
   "id": "b8378bc3-66d1-44c4-8f86-61598e07dde5",
   "metadata": {},
   "outputs": [],
   "source": [
    "df_22_ref_z_scored = pd.read_excel(\"./hw4_P2_refresh.xlsx\", sheet_name=\"Normalized User \")"
   ]
  },
  {
   "cell_type": "code",
   "execution_count": null,
   "id": "e74cfd9c-08f5-4dec-a01f-55f82c395724",
   "metadata": {},
   "outputs": [],
   "source": [
    "name_to_index[\"MNO\"] = 98\n",
    "name_to_index[\"PQR\"] = 99\n",
    "name_to_index[\"STU\"] = 100"
   ]
  },
  {
   "cell_type": "code",
   "execution_count": null,
   "id": "c3aa59d0-587e-42c7-b1b7-e4a46f759815",
   "metadata": {},
   "outputs": [],
   "source": [
    "df_22_ref_z_scored.drop([\"User-Normalized\"], axis=1, inplace=True)"
   ]
  },
  {
   "cell_type": "code",
   "execution_count": null,
   "id": "14a72b36-f3e2-4c56-b221-2b2fd13b1376",
   "metadata": {},
   "outputs": [],
   "source": [
    "df_22_ref_z_scored = df_22_ref_z_scored.T\n",
    "df_22_ref_z_scored.columns = df_21_org.columns"
   ]
  },
  {
   "cell_type": "code",
   "execution_count": null,
   "id": "727ecbc9-4829-4ecf-b892-735e661ed9ff",
   "metadata": {},
   "outputs": [],
   "source": [
    "df_22_ref_z_scored.fillna(0, inplace=True)"
   ]
  },
  {
   "cell_type": "code",
   "execution_count": null,
   "id": "9751a027-6f53-4a60-a189-7d6626b9f7d0",
   "metadata": {},
   "outputs": [],
   "source": [
    "df_combined_ref = pd.concat([df_22_ref, df_21_org])"
   ]
  },
  {
   "cell_type": "code",
   "execution_count": null,
   "id": "a21d6fa6-8d05-4052-859c-0bfc1b2191f7",
   "metadata": {},
   "outputs": [],
   "source": [
    "df_combined_ref"
   ]
  },
  {
   "cell_type": "code",
   "execution_count": null,
   "id": "4c7c665e-3d48-4fab-acdd-e554b9077e91",
   "metadata": {},
   "outputs": [],
   "source": [
    "u_similarity_matrix_ref = cosine_similarity(df_combined_ref)"
   ]
  },
  {
   "cell_type": "code",
   "execution_count": null,
   "id": "ba4cec1e-b02d-4d3e-83aa-1cb31620c8d1",
   "metadata": {},
   "outputs": [],
   "source": [
    "df_22_ref.iloc[99].sum()/df_22_ref.iloc[np.where(df_22_ref.iloc[99] > 0)].shape[0]"
   ]
  },
  {
   "cell_type": "code",
   "execution_count": null,
   "id": "49082de0-ac81-4515-b50c-55de5a2f87e2",
   "metadata": {},
   "outputs": [],
   "source": [
    "df_22_ref.iloc[99]"
   ]
  },
  {
   "cell_type": "code",
   "execution_count": null,
   "id": "3f6db231-b3f6-497c-a7e7-0475115564fb",
   "metadata": {},
   "outputs": [],
   "source": [
    "mean = df_combined.iloc[99].sum()/df_combined.iloc[np.where(df_22_ref.iloc[99] > 0)].shape[0]\n",
    "sum((df_22_ref.iloc[99][np.where(df_22_ref.iloc[99] > 0)[0]] - mean) ** 2)/df_22_ref.iloc[np.where(df_22_ref.iloc[99] > 0)].shape[0]"
   ]
  },
  {
   "cell_type": "code",
   "execution_count": null,
   "id": "8812a214-ac42-4d06-94f8-18b22df21745",
   "metadata": {},
   "outputs": [],
   "source": [
    "df_combined.iloc[99].sum()/df_combined.iloc[np.where(df_combined.iloc[99] > 0)].shape[0]"
   ]
  },
  {
   "cell_type": "code",
   "execution_count": null,
   "id": "844e25ce-9dfe-4311-b153-d91327c76bbe",
   "metadata": {},
   "outputs": [],
   "source": [
    "df_22_ref.iloc[100]"
   ]
  },
  {
   "cell_type": "code",
   "execution_count": null,
   "id": "9a903ca2-3e00-4149-b1ba-6eba3411086d",
   "metadata": {},
   "outputs": [],
   "source": [
    "abs(u_similarity_matrix_ref[user_index][indices])"
   ]
  },
  {
   "cell_type": "code",
   "execution_count": null,
   "id": "8b217c86-98d7-4031-9b33-e9edd950674a",
   "metadata": {},
   "outputs": [],
   "source": [
    "(df_22_ref.iloc[100][np.where(df_22_ref.iloc[100] > 0)[0]] - mean) ** 2"
   ]
  },
  {
   "cell_type": "code",
   "execution_count": null,
   "id": "7a192b33-058d-4f0d-9933-6d1c8a33aef7",
   "metadata": {},
   "outputs": [],
   "source": [
    "name_to_index"
   ]
  },
  {
   "cell_type": "code",
   "execution_count": null,
   "id": "9b8ca64f-76e5-44a7-a683-8811ef557342",
   "metadata": {},
   "outputs": [],
   "source": [
    "def predict_rating(username, movie, k=10):\n",
    "    user_index = name_to_index[username]\n",
    "    indices = np.argpartition(u_similarity_matrix_ref[user_index], -(k+1))[-(k+1):]\n",
    "    indices = [i for i in indices if i != user_index]\n",
    "    ratings_movie = df_combined_ref.iloc[indices].T.loc[movie].values.reshape(1, -1)\n",
    "    cosine_similarity_top_k_users = u_similarity_matrix_ref[user_index][indices]\n",
    "    mean = df_combined.iloc[user_index].sum()/df_combined.iloc[np.where(df_combined.iloc[user_index] > 0)].shape[0]\n",
    "    stddev = math.sqrt(sum((df_combined.iloc[user_index][np.where(df_combined.iloc[user_index] > 0)[0]] - mean) ** 2)/(df_combined.iloc[np.where(df_combined.iloc[user_index] > 0)].shape[0] - 1))\n",
    "    print(f\"Mean: {mean}\")\n",
    "    print(f\"Std Dev: {stddev}\")\n",
    "    print(f\"{np.dot(ratings_movie, cosine_similarity_top_k_users)/sum(abs(cosine_similarity_top_k_users))}\")\n",
    "    res =  stddev * np.dot(ratings_movie, cosine_similarity_top_k_users)/sum(abs(cosine_similarity_top_k_users)) + mean\n",
    "    return res[0]\n",
    "\n",
    "team_names = [\"MNO\", \"PQR\", \"STU\"]\n",
    "movies = [\"Avatar\", \"Inception\", \"The Wolf of Wall Street\"]\n",
    "for name in team_names:\n",
    "    for movie in movies:\n",
    "        print(f\"Prediction for {name} for the movie {movie} is: {predict_rating(name, movie)}\")\n",
    "        print(\"------------------------------------------------------------------------------\")"
   ]
  },
  {
   "cell_type": "markdown",
   "id": "2b612cb5-98d7-42ce-bb18-8c74b6673744",
   "metadata": {},
   "source": [
    "## Question 4 KNN Item-Item ZScore"
   ]
  },
  {
   "cell_type": "code",
   "execution_count": null,
   "id": "278d6fb8-3b09-4c8d-9f05-badbe4fa6d91",
   "metadata": {},
   "outputs": [],
   "source": [
    "df_22_ref_z_scored_item = pd.read_csv(\"./item_item_z_scored_ref.csv\")"
   ]
  },
  {
   "cell_type": "code",
   "execution_count": null,
   "id": "c2c3a797-d4c4-41bb-89df-c330bf0b41ec",
   "metadata": {},
   "outputs": [],
   "source": [
    "df_22_ref_z_scored_item.drop([\"Unnamed: 0\"], axis=1, inplace=True)"
   ]
  },
  {
   "cell_type": "code",
   "execution_count": null,
   "id": "3c04f2da-d074-4984-9dad-cfc0d3e20c38",
   "metadata": {},
   "outputs": [],
   "source": [
    "df_22_ref_z_scored_item = df_22_ref_z_scored_item.T\n",
    "df_22_ref_z_scored_item.columns = df_21_org.columns"
   ]
  },
  {
   "cell_type": "code",
   "execution_count": null,
   "id": "19bcd7b4-21cc-4ded-9632-e0ac29a7163e",
   "metadata": {},
   "outputs": [],
   "source": [
    "i_similarity_matrix = cosine_similarity(df_22_ref_z_scored_item.T)"
   ]
  },
  {
   "cell_type": "code",
   "execution_count": null,
   "id": "16b03838-09bc-4bae-8b27-7816b815e66c",
   "metadata": {},
   "outputs": [],
   "source": [
    "mean = df_combined.iloc[:,movie_to_index[\"Avatar\"]].sum()/np.where(df_combined.iloc[:, movie_to_index[\"Avatar\"]] > 0)[0].shape[0]"
   ]
  },
  {
   "cell_type": "code",
   "execution_count": null,
   "id": "17fb9666-d6c0-4bb4-abe5-5ffad7b1cc19",
   "metadata": {},
   "outputs": [],
   "source": []
  },
  {
   "cell_type": "code",
   "execution_count": null,
   "id": "0cb52f62-a6c7-4cc1-93c7-091aa96f07cf",
   "metadata": {},
   "outputs": [],
   "source": [
    "def predict_rating(username, movie, k=10):\n",
    "    user_index = name_to_index[username]\n",
    "    indices = np.argpartition(u_similarity_matrix_ref[user_index], -(k+1))[-(k+1):]\n",
    "    indices = [i for i in indices if i != user_index]\n",
    "    ratings_movie = df_combined_ref.iloc[indices].T.loc[movie].values.reshape(1, -1)\n",
    "    cosine_similarity_top_k_users = u_similarity_matrix_ref[user_index][indices]\n",
    "    mean = df_combined.iloc[:,movie_to_index[\"Avatar\"]].sum()/np.where(df_combined.iloc[:, movie_to_index[\"Avatar\"]] > 0)[0].shape[0]\n",
    "    stddev = math.sqrt(sum((df_22_ref.iloc[user_index][np.where(df_22_ref.iloc[user_index] > 0)[0]] - mean) ** 2)/(df_22_ref.iloc[np.where(df_22_ref.iloc[user_index] > 0)].shape[0] - 1))\n",
    "    print(f\"Mean: {mean}\")\n",
    "    print(f\"Std Dev: {stddev}\")\n",
    "    print(f\"{np.dot(ratings_movie, cosine_similarity_top_k_users)/sum(abs(cosine_similarity_top_k_users))}\")\n",
    "    res =  stddev * np.dot(ratings_movie, cosine_similarity_top_k_users)/sum(abs(cosine_similarity_top_k_users)) + mean\n",
    "    return res[0]\n",
    "\n",
    "team_names = [\"MNO\", \"PQR\", \"STU\"]\n",
    "movies = [\"Avatar\", \"Inception\", \"The Wolf of Wall Street\"]\n",
    "for name in team_names:\n",
    "    for movie in movies:\n",
    "        print(f\"Prediction for {name} for the movie {movie} is: {predict_rating(name, movie)}\")\n",
    "        print(\"------------------------------------------------------------------------------\")"
   ]
  },
  {
   "cell_type": "markdown",
   "id": "0626b512-be54-4588-84ed-b3e2cca76716",
   "metadata": {},
   "source": [
    "## Test Cosine Similarity Logic Original Data User-User "
   ]
  },
  {
   "cell_type": "code",
   "execution_count": null,
   "id": "1160dd17-643b-4378-b125-422884469739",
   "metadata": {},
   "outputs": [],
   "source": [
    "df_test = pd.read_csv(\"\")\n",
    "df_test.fillna(0, inplace=True)\n",
    "df_test.drop(['user'], axis=1, inplace=True)"
   ]
  },
  {
   "cell_type": "code",
   "execution_count": null,
   "id": "6e9cd786-9844-41a7-896f-46f356ee6bea",
   "metadata": {},
   "outputs": [],
   "source": [
    "test_similarity_matrix = cosine_similarity(df_test.T)"
   ]
  },
  {
   "cell_type": "code",
   "execution_count": null,
   "id": "6d74fe19-b3db-4636-8e35-23fafb39e9e5",
   "metadata": {},
   "outputs": [],
   "source": [
    "test_similarity_matrix.shape"
   ]
  },
  {
   "cell_type": "code",
   "execution_count": null,
   "id": "19e3a940-2416-4445-8a22-141532295d97",
   "metadata": {},
   "outputs": [],
   "source": [
    "test_similarity_matrix[0][1:]"
   ]
  },
  {
   "cell_type": "code",
   "execution_count": null,
   "id": "5f1a189a-461d-46f8-8f84-c8e7397f33c1",
   "metadata": {},
   "outputs": [],
   "source": [
    "np.dot(df_test.iloc[1, 1:].fillna(0).values, test_similarity_matrix[0][1:])/sum(test_similarity_matrix[0][1:])"
   ]
  },
  {
   "cell_type": "code",
   "execution_count": null,
   "id": "cfb7a4b4-4fb2-4f07-85ba-6d9d00861be8",
   "metadata": {},
   "outputs": [],
   "source": [
    "df_test"
   ]
  },
  {
   "cell_type": "code",
   "execution_count": null,
   "id": "45268d27-124a-4e19-a333-51180b15c1a8",
   "metadata": {},
   "outputs": [],
   "source": [
    "np.dot(df_test.iloc[0, 1:].fillna(0).values, test_similarity_matrix[0][1:])/sum(test_similarity_matrix[0][1:])"
   ]
  },
  {
   "cell_type": "markdown",
   "id": "d33d7811-7644-4275-830b-0b59e00aa43d",
   "metadata": {},
   "source": [
    "## Test ZScore Scipy"
   ]
  },
  {
   "cell_type": "code",
   "execution_count": null,
   "id": "5ebc0dbe-152c-499b-8b3e-daa49170e9b9",
   "metadata": {},
   "outputs": [],
   "source": [
    "df_combined[\"The Social Network\"]"
   ]
  },
  {
   "cell_type": "code",
   "execution_count": null,
   "id": "38cbf301-b9fc-4856-9c13-0587fcc479ce",
   "metadata": {},
   "outputs": [],
   "source": [
    "df_combined_zscore"
   ]
  },
  {
   "cell_type": "code",
   "execution_count": null,
   "id": "abe81e68-7372-43e3-900e-19a4b5278577",
   "metadata": {},
   "outputs": [],
   "source": []
  }
 ],
 "metadata": {
  "kernelspec": {
   "display_name": "Python 3 (ipykernel)",
   "language": "python",
   "name": "python3"
  },
  "language_info": {
   "codemirror_mode": {
    "name": "ipython",
    "version": 3
   },
   "file_extension": ".py",
   "mimetype": "text/x-python",
   "name": "python",
   "nbconvert_exporter": "python",
   "pygments_lexer": "ipython3",
   "version": "3.10.2"
  }
 },
 "nbformat": 4,
 "nbformat_minor": 5
}
